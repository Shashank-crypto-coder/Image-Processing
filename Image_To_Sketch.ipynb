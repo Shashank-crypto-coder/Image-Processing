{
 "cells": [
  {
   "cell_type": "code",
   "execution_count": 6,
   "id": "4082fcaf",
   "metadata": {},
   "outputs": [
    {
     "name": "stdout",
     "output_type": "stream",
     "text": [
      "Requirement already satisfied: sketchpy in d:\\anaconda\\lib\\site-packages (0.0.23)\n",
      "Requirement already satisfied: tqdm in d:\\anaconda\\lib\\site-packages (from sketchpy) (4.62.3)\n",
      "Requirement already satisfied: turtle==0.0.1 in d:\\anaconda\\lib\\site-packages (from sketchpy) (0.0.1)\n",
      "Requirement already satisfied: opencv-python in d:\\anaconda\\lib\\site-packages (from sketchpy) (4.6.0.66)\n",
      "Requirement already satisfied: wheel in d:\\anaconda\\lib\\site-packages (from sketchpy) (0.37.0)\n",
      "Requirement already satisfied: numpy in d:\\anaconda\\lib\\site-packages (from sketchpy) (1.20.3)\n",
      "Requirement already satisfied: svg.path in d:\\anaconda\\lib\\site-packages (from sketchpy) (6.2)\n",
      "Requirement already satisfied: svgpathtools in d:\\anaconda\\lib\\site-packages (from sketchpy) (1.5.0)\n",
      "Requirement already satisfied: PyYAML>=3.08 in d:\\anaconda\\lib\\site-packages (from turtle==0.0.1->sketchpy) (6.0)\n",
      "Requirement already satisfied: scipy in d:\\anaconda\\lib\\site-packages (from svgpathtools->sketchpy) (1.7.1)\n",
      "Requirement already satisfied: svgwrite in d:\\anaconda\\lib\\site-packages (from svgpathtools->sketchpy) (1.4.2)\n",
      "Requirement already satisfied: colorama in d:\\anaconda\\lib\\site-packages (from tqdm->sketchpy) (0.4.4)\n",
      "Note: you may need to restart the kernel to use updated packages.\n"
     ]
    }
   ],
   "source": [
    "pip install sketchpy"
   ]
  },
  {
   "cell_type": "code",
   "execution_count": 1,
   "id": "30e84ccb",
   "metadata": {},
   "outputs": [
    {
     "name": "stdout",
     "output_type": "stream",
     "text": [
      "image loaded from Sample.jpeg\n"
     ]
    },
    {
     "name": "stderr",
     "output_type": "stream",
     "text": [
      "100%|██████████████████████████████████████████████████████████████████████████████| 1600/1600 [10:02<00:00,  2.66it/s]\n"
     ]
    },
    {
     "name": "stdout",
     "output_type": "stream",
     "text": [
      "done!\n"
     ]
    }
   ],
   "source": [
    "from sketchpy import canvas\n",
    "img=canvas.sketch_from_image(\"Sample.jpeg\")\n",
    "img.draw()"
   ]
  },
  {
   "cell_type": "code",
   "execution_count": null,
   "id": "3b49925a",
   "metadata": {},
   "outputs": [],
   "source": []
  }
 ],
 "metadata": {
  "kernelspec": {
   "display_name": "Python 3 (ipykernel)",
   "language": "python",
   "name": "python3"
  },
  "language_info": {
   "codemirror_mode": {
    "name": "ipython",
    "version": 3
   },
   "file_extension": ".py",
   "mimetype": "text/x-python",
   "name": "python",
   "nbconvert_exporter": "python",
   "pygments_lexer": "ipython3",
   "version": "3.9.7"
  }
 },
 "nbformat": 4,
 "nbformat_minor": 5
}
