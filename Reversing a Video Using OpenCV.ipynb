{
 "cells": [
  {
   "cell_type": "markdown",
   "id": "145dae83",
   "metadata": {},
   "source": [
    "### Playing Video In Reverse Mode Using OpenCV"
   ]
  },
  {
   "cell_type": "markdown",
   "id": "089383d3",
   "metadata": {},
   "source": [
    "**How to play video in reverse mode:**\n",
    "\n",
    "* Opencv library can be used to perform multiple operations on videos.\n",
    "\n",
    "* Take a video as input and play it in a reverse mode by breaking the video into frame by frame and simultaneously store that frame in the list.\n",
    "\n",
    "* After getting list of frames we perform iteration over the frames. For playing video in reverse mode,\n",
    "\n",
    "* we need only to iterate reverse in the list of frames. Use reverse method of the list for reversing the order of frames in the list."
   ]
  },
  {
   "cell_type": "markdown",
   "id": "d28e2f18",
   "metadata": {},
   "source": [
    "**Basic algorithm to capture video in opencv**\n",
    "\n",
    "* Use cv2.VideoCapture() to get a video capture object for the camera.\n",
    "* Setup infinite while loop and use the Read() method to read frames using the above created object.\n",
    "* Use cv2.imshow method to show the frames in the video.\n",
    "* Break the looping with help of clicking specify key."
   ]
  },
  {
   "cell_type": "code",
   "execution_count": 1,
   "id": "b1b1ffe2",
   "metadata": {},
   "outputs": [],
   "source": [
    "#code for accessing the camera\n",
    "import cv2\n",
    "cap=cv2.VideoCapture(0)\n",
    "while(True):\n",
    "    res,vid=cap.read()\n",
    "    cv2.imshow(\"frame\",vid)\n",
    "    \n",
    "    if cv2.waitKey(12) & 0xFF==ord(\"q\"): #0xFF=cutoff i.e the camera gets of on clicking 'q' on keyboard or after 12seconds\n",
    "        break\n",
    "cap.release()\n",
    "cv2.destroyAllWindows()"
   ]
  },
  {
   "cell_type": "code",
   "execution_count": 2,
   "id": "8cba6467",
   "metadata": {},
   "outputs": [],
   "source": [
    "#code for playing a video\n",
    "import cv2\n",
    "cap=cv2.VideoCapture(\"SrisailamDam.mp4\")\n",
    "res,vid_frame=cap.read()\n",
    "count=0\n",
    "frame_list=[]\n",
    "while(res == True):\n",
    "    res,vid_frame=cap.read()\n",
    "    \n",
    "    frame_list.append(vid_frame)\n",
    "    count+=1\n",
    "    \n",
    "frame_list.pop() #since last frame that will be stored in list is None(when the condition becomes False)\n",
    "#So we need to clear that None \n",
    "for frame in frame_list:\n",
    "    cv2.imshow(\"frame\",frame)\n",
    "    if cv2.waitKey(20) & 0xFF==ord(\"q\"):\n",
    "        break\n",
    "cap.release()\n",
    "cv2.destroyAllWindows()"
   ]
  },
  {
   "cell_type": "code",
   "execution_count": 3,
   "id": "9e4a4b97",
   "metadata": {},
   "outputs": [],
   "source": [
    "#code for reversing a video\n",
    "import cv2\n",
    "cap=cv2.VideoCapture(\"SrisailamDam.mp4\")\n",
    "res,vid_frame=cap.read()\n",
    "count=0\n",
    "frame_list=[]\n",
    "while(res == True):\n",
    "    res,vid_frame=cap.read()\n",
    "    frame_list.append(vid_frame)\n",
    "    count+=1\n",
    "    \n",
    "frame_list.pop() #since last frame that will be stored in list is None(when the condition becomes False)\n",
    "#So we need to clear that None \n",
    "for frame in frame_list:\n",
    "    cv2.imshow(\"frame\",frame)\n",
    "    if cv2.waitKey(20) & 0xFF==ord(\"q\"):\n",
    "        break\n",
    "cap.release()\n",
    "cv2.destroyAllWindows()\n",
    "\n",
    "frame_list.reverse()\n",
    "for frame in frame_list:\n",
    "    cv2.imshow(\"reverse mode\",frame)\n",
    "    if cv2.waitKey(20) & 0xFF==ord(\"q\"):\n",
    "        break\n",
    "cap.release()\n",
    "cv2.destroyAllWindows()        "
   ]
  },
  {
   "cell_type": "code",
   "execution_count": 4,
   "id": "912962dc",
   "metadata": {},
   "outputs": [],
   "source": [
    "#code for saving every frame\n",
    "import cv2\n",
    "cap=cv2.VideoCapture(\"SrisailamDam.mp4\")\n",
    "res,vid_frame=cap.read()\n",
    "count=0\n",
    "frame_list=[]\n",
    "while(res == True):\n",
    "    cv2.imwrite(\"frame%d.jpg\" %count ,vid_frame )\n",
    "    res,vid_frame=cap.read()\n",
    "    frame_list.append(vid_frame)\n",
    "    count+=1\n",
    "    \n",
    "frame_list.pop()\n",
    "for frame in frame_list:\n",
    "    cv2.imshow(\"frame\",frame)\n",
    "    if cv2.waitKey(20) & 0xFF==ord(\"q\"):\n",
    "        break\n",
    "cap.release()\n",
    "cv2.destroyAllWindows()\n",
    "  "
   ]
  },
  {
   "cell_type": "code",
   "execution_count": null,
   "id": "8df69d5f",
   "metadata": {},
   "outputs": [],
   "source": []
  }
 ],
 "metadata": {
  "kernelspec": {
   "display_name": "Python 3 (ipykernel)",
   "language": "python",
   "name": "python3"
  },
  "language_info": {
   "codemirror_mode": {
    "name": "ipython",
    "version": 3
   },
   "file_extension": ".py",
   "mimetype": "text/x-python",
   "name": "python",
   "nbconvert_exporter": "python",
   "pygments_lexer": "ipython3",
   "version": "3.9.7"
  }
 },
 "nbformat": 4,
 "nbformat_minor": 5
}
